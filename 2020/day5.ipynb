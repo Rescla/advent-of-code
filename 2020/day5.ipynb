{
 "cells": [
  {
   "cell_type": "code",
   "execution_count": 80,
   "metadata": {
    "collapsed": true
   },
   "outputs": [],
   "source": [
    "#\n",
    "# boarding_passes = [\n",
    "#     \"BFFFBBFRRR\",\n",
    "#     \"FFFBBBFRRR\",\n",
    "#     \"BBFFBBFRLL\"\n",
    "# ]\n",
    "\n",
    "with open('data/day5') as f:\n",
    "    boarding_passes = list(f.read().splitlines())"
   ]
  },
  {
   "cell_type": "code",
   "execution_count": 81,
   "outputs": [
    {
     "data": {
      "text/plain": "935"
     },
     "execution_count": 81,
     "metadata": {},
     "output_type": "execute_result"
    }
   ],
   "source": [
    "\n",
    "import math\n",
    "\n",
    "def get_row(current_pass):\n",
    "    bf_part = current_pass[:7]\n",
    "\n",
    "    size = (2 ** 7) / 2\n",
    "    cursor = size\n",
    "\n",
    "    for bf in bf_part:\n",
    "        if bf == 'F':\n",
    "            cursor -= size / 2\n",
    "        else:\n",
    "            cursor += size / 2\n",
    "\n",
    "        size /= 2\n",
    "\n",
    "    return math.floor(cursor)\n",
    "\n",
    "def get_col(current_pass):\n",
    "    rl_part = current_pass[7:]\n",
    "\n",
    "    size = (2 ** 3) / 2\n",
    "    cursor = size\n",
    "\n",
    "    for rl in rl_part:\n",
    "        if rl == 'L':\n",
    "            cursor -= size / 2\n",
    "        else:\n",
    "            cursor += size / 2\n",
    "\n",
    "        size /= 2\n",
    "\n",
    "    return math.floor(cursor)\n",
    "\n",
    "\n",
    "def handle_pass(current_pass):\n",
    "    row = get_row(current_pass)\n",
    "    col = get_col(current_pass)\n",
    "\n",
    "    seat_id = row * 8 + col\n",
    "\n",
    "    # print(current_pass, row, col, seat_id)\n",
    "    return seat_id\n",
    "\n",
    "\n",
    "for boarding_pass in boarding_passes:\n",
    "    handle_pass(boarding_pass)\n",
    "\n",
    "seat_ids = list(map(lambda current: handle_pass(current), boarding_passes))\n",
    "\n",
    "max(seat_ids)"
   ],
   "metadata": {
    "collapsed": false,
    "pycharm": {
     "name": "#%%\n"
    }
   }
  },
  {
   "cell_type": "code",
   "execution_count": 86,
   "outputs": [
    {
     "name": "stdout",
     "output_type": "stream",
     "text": [
      "found seat id:  743\n"
     ]
    }
   ],
   "source": [
    "seat_ids = sorted(seat_ids)\n",
    "\n",
    "for index in range(1, len(seat_ids)):\n",
    "    diff = seat_ids[index] - seat_ids[index - 1]\n",
    "\n",
    "    if diff == 2:\n",
    "        print('found seat id: ', seat_ids[index] - 1)"
   ],
   "metadata": {
    "collapsed": false,
    "pycharm": {
     "name": "#%%\n"
    }
   }
  }
 ],
 "metadata": {
  "kernelspec": {
   "display_name": "Python 3",
   "language": "python",
   "name": "python3"
  },
  "language_info": {
   "codemirror_mode": {
    "name": "ipython",
    "version": 2
   },
   "file_extension": ".py",
   "mimetype": "text/x-python",
   "name": "python",
   "nbconvert_exporter": "python",
   "pygments_lexer": "ipython2",
   "version": "2.7.6"
  }
 },
 "nbformat": 4,
 "nbformat_minor": 0
}