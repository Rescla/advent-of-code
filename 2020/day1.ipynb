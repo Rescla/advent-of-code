{
 "cells": [
  {
   "cell_type": "code",
   "execution_count": 3,
   "metadata": {
    "collapsed": true
   },
   "outputs": [],
   "source": [
    "lines = []\n",
    "\n",
    "with open('data/day1') as f:\n",
    "    lines = list(map(int, f.read().splitlines()))\n"
   ]
  },
  {
   "cell_type": "code",
   "execution_count": 9,
   "outputs": [
    {
     "name": "stdout",
     "output_type": "stream",
     "text": [
      "422 577 1021\n",
      "multiply:  248607374\n"
     ]
    }
   ],
   "source": [
    "for ai in range(len(lines) - 2):\n",
    "    for bi in range(ai + 1, len(lines) - 1):\n",
    "        for ci in range(bi + 2, len(lines)):\n",
    "            if lines[ai] + lines[bi] + lines[ci] == 2020:\n",
    "                print(lines[ai], lines[bi], lines[ci])\n",
    "                print(\"multiply: \", lines[ai] * lines[bi] * lines[ci])\n"
   ],
   "metadata": {
    "collapsed": false,
    "pycharm": {
     "name": "#%%\n"
    }
   }
  },
  {
   "cell_type": "code",
   "execution_count": null,
   "outputs": [],
   "source": [],
   "metadata": {
    "collapsed": false,
    "pycharm": {
     "name": "#%%\n"
    }
   }
  }
 ],
 "metadata": {
  "kernelspec": {
   "display_name": "Python 3",
   "language": "python",
   "name": "python3"
  },
  "language_info": {
   "codemirror_mode": {
    "name": "ipython",
    "version": 2
   },
   "file_extension": ".py",
   "mimetype": "text/x-python",
   "name": "python",
   "nbconvert_exporter": "python",
   "pygments_lexer": "ipython2",
   "version": "2.7.6"
  }
 },
 "nbformat": 4,
 "nbformat_minor": 0
}