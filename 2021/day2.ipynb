{
 "cells": [
  {
   "cell_type": "code",
   "execution_count": 60,
   "metadata": {
    "collapsed": true
   },
   "outputs": [],
   "source": [
    "# data = \"\"\"forward 5\n",
    "# down 5\n",
    "# forward 8\n",
    "# up 3\n",
    "# down 8\n",
    "# forward 2\"\"\"\n",
    "#\n",
    "# data = data.splitlines()\n",
    "\n",
    "\n",
    "with open('./files/day2') as f:\n",
    "    data = list(f.read().splitlines())\n",
    "\n",
    "data = list(map(lambda row: row.split(\" \"), data))\n"
   ]
  },
  {
   "cell_type": "code",
   "execution_count": 61,
   "outputs": [
    {
     "name": "stdout",
     "output_type": "stream",
     "text": [
      "result part 1:  1990000\n"
     ]
    }
   ],
   "source": [
    "x = 0\n",
    "y = 0\n",
    "\n",
    "def forward(count):\n",
    "    global x\n",
    "    x += count\n",
    "\n",
    "def down(count):\n",
    "    global y\n",
    "    y += count\n",
    "\n",
    "def up(count):\n",
    "    global y\n",
    "    y -= count\n",
    "\n",
    "moveMap = {\n",
    "    'forward': forward,\n",
    "    'down': down,\n",
    "    'up': up\n",
    "}\n",
    "\n",
    "for current in list(data):\n",
    "    parsedCount = int(current[1])\n",
    "    moveMap[current[0]](parsedCount)\n",
    "\n",
    "\n",
    "print('result part 1: ', x * y)"
   ],
   "metadata": {
    "collapsed": false,
    "pycharm": {
     "name": "#%%\n"
    }
   }
  },
  {
   "cell_type": "code",
   "execution_count": 62,
   "outputs": [
    {
     "name": "stdout",
     "output_type": "stream",
     "text": [
      "result part 2:  1975421260\n"
     ]
    }
   ],
   "source": [
    "x = 0\n",
    "y = 0\n",
    "aim = 0\n",
    "\n",
    "def forward(count):\n",
    "    global x\n",
    "    global y\n",
    "    global aim\n",
    "    x += count\n",
    "    y += aim * count\n",
    "\n",
    "def down(count):\n",
    "    global aim\n",
    "    aim += count\n",
    "\n",
    "def up(count):\n",
    "    global aim\n",
    "    aim -= count\n",
    "\n",
    "moveMap = {\n",
    "    'forward': forward,\n",
    "    'down': down,\n",
    "    'up': up\n",
    "}\n",
    "\n",
    "for current in list(data):\n",
    "    parsedCount = int(current[1])\n",
    "    moveMap[current[0]](parsedCount)\n",
    "\n",
    "print('result part 2: ', x * y)\n"
   ],
   "metadata": {
    "collapsed": false,
    "pycharm": {
     "name": "#%%\n"
    }
   }
  }
 ],
 "metadata": {
  "kernelspec": {
   "display_name": "Python 3",
   "language": "python",
   "name": "python3"
  },
  "language_info": {
   "codemirror_mode": {
    "name": "ipython",
    "version": 2
   },
   "file_extension": ".py",
   "mimetype": "text/x-python",
   "name": "python",
   "nbconvert_exporter": "python",
   "pygments_lexer": "ipython2",
   "version": "2.7.6"
  }
 },
 "nbformat": 4,
 "nbformat_minor": 0
}