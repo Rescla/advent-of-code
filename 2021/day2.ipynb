{
 "cells": [
  {
   "cell_type": "code",
   "execution_count": 57,
   "metadata": {
    "collapsed": true
   },
   "outputs": [
    {
     "data": {
      "text/plain": "[['forward', '7'],\n ['down', '2'],\n ['forward', '7'],\n ['down', '6'],\n ['forward', '1'],\n ['forward', '7'],\n ['down', '3'],\n ['up', '5'],\n ['forward', '7'],\n ['forward', '6'],\n ['down', '8'],\n ['down', '1'],\n ['up', '5'],\n ['up', '1'],\n ['down', '2'],\n ['forward', '8'],\n ['forward', '3'],\n ['down', '8'],\n ['down', '9'],\n ['down', '1'],\n ['forward', '4'],\n ['down', '8'],\n ['down', '7'],\n ['forward', '3'],\n ['up', '5'],\n ['up', '3'],\n ['forward', '9'],\n ['forward', '5'],\n ['forward', '5'],\n ['down', '9'],\n ['up', '2'],\n ['down', '4'],\n ['up', '4'],\n ['down', '9'],\n ['forward', '7'],\n ['down', '9'],\n ['up', '7'],\n ['forward', '4'],\n ['down', '2'],\n ['down', '6'],\n ['up', '3'],\n ['down', '2'],\n ['down', '4'],\n ['up', '5'],\n ['forward', '7'],\n ['up', '8'],\n ['down', '4'],\n ['forward', '8'],\n ['down', '5'],\n ['forward', '1'],\n ['forward', '3'],\n ['up', '9'],\n ['forward', '5'],\n ['down', '4'],\n ['forward', '6'],\n ['forward', '2'],\n ['up', '3'],\n ['down', '5'],\n ['down', '6'],\n ['forward', '8'],\n ['up', '6'],\n ['up', '9'],\n ['down', '8'],\n ['down', '2'],\n ['down', '6'],\n ['forward', '2'],\n ['forward', '8'],\n ['forward', '1'],\n ['forward', '5'],\n ['forward', '3'],\n ['down', '8'],\n ['down', '5'],\n ['forward', '3'],\n ['up', '7'],\n ['down', '9'],\n ['up', '9'],\n ['forward', '7'],\n ['forward', '6'],\n ['forward', '4'],\n ['down', '5'],\n ['forward', '1'],\n ['down', '9'],\n ['forward', '9'],\n ['forward', '6'],\n ['down', '8'],\n ['down', '5'],\n ['forward', '5'],\n ['forward', '4'],\n ['forward', '3'],\n ['up', '6'],\n ['up', '7'],\n ['forward', '2'],\n ['up', '2'],\n ['up', '9'],\n ['forward', '8'],\n ['up', '3'],\n ['forward', '8'],\n ['down', '8'],\n ['forward', '1'],\n ['forward', '7'],\n ['forward', '4'],\n ['down', '5'],\n ['forward', '8'],\n ['down', '2'],\n ['down', '2'],\n ['down', '3'],\n ['forward', '3'],\n ['forward', '3'],\n ['up', '3'],\n ['forward', '4'],\n ['up', '9'],\n ['up', '8'],\n ['forward', '1'],\n ['down', '8'],\n ['up', '6'],\n ['down', '5'],\n ['up', '3'],\n ['up', '2'],\n ['forward', '1'],\n ['up', '8'],\n ['down', '7'],\n ['up', '5'],\n ['down', '2'],\n ['forward', '5'],\n ['down', '3'],\n ['down', '1'],\n ['forward', '2'],\n ['forward', '6'],\n ['forward', '7'],\n ['forward', '1'],\n ['forward', '5'],\n ['forward', '4'],\n ['down', '9'],\n ['forward', '6'],\n ['down', '9'],\n ['up', '8'],\n ['forward', '9'],\n ['forward', '5'],\n ['up', '2'],\n ['up', '7'],\n ['up', '2'],\n ['down', '1'],\n ['down', '7'],\n ['down', '1'],\n ['forward', '2'],\n ['down', '8'],\n ['down', '3'],\n ['forward', '1'],\n ['down', '5'],\n ['forward', '7'],\n ['forward', '5'],\n ['forward', '6'],\n ['up', '6'],\n ['forward', '6'],\n ['forward', '1'],\n ['down', '2'],\n ['forward', '5'],\n ['down', '7'],\n ['up', '1'],\n ['down', '5'],\n ['down', '4'],\n ['down', '8'],\n ['up', '2'],\n ['down', '2'],\n ['up', '6'],\n ['forward', '2'],\n ['down', '2'],\n ['up', '9'],\n ['down', '7'],\n ['down', '3'],\n ['down', '6'],\n ['forward', '5'],\n ['up', '5'],\n ['forward', '2'],\n ['forward', '7'],\n ['down', '9'],\n ['up', '3'],\n ['forward', '4'],\n ['forward', '4'],\n ['down', '6'],\n ['down', '2'],\n ['down', '4'],\n ['forward', '6'],\n ['down', '2'],\n ['down', '8'],\n ['up', '2'],\n ['forward', '9'],\n ['down', '8'],\n ['forward', '4'],\n ['down', '2'],\n ['up', '4'],\n ['down', '6'],\n ['forward', '3'],\n ['forward', '2'],\n ['forward', '7'],\n ['down', '7'],\n ['forward', '3'],\n ['forward', '7'],\n ['down', '9'],\n ['up', '6'],\n ['down', '4'],\n ['forward', '4'],\n ['down', '6'],\n ['down', '8'],\n ['down', '4'],\n ['forward', '3'],\n ['up', '5'],\n ['up', '4'],\n ['up', '9'],\n ['forward', '9'],\n ['down', '1'],\n ['forward', '3'],\n ['forward', '9'],\n ['up', '3'],\n ['down', '5'],\n ['forward', '2'],\n ['down', '9'],\n ['down', '9'],\n ['forward', '1'],\n ['forward', '4'],\n ['forward', '8'],\n ['forward', '9'],\n ['down', '4'],\n ['forward', '3'],\n ['down', '3'],\n ['forward', '9'],\n ['down', '1'],\n ['down', '3'],\n ['down', '9'],\n ['down', '3'],\n ['down', '2'],\n ['down', '1'],\n ['up', '2'],\n ['down', '3'],\n ['up', '7'],\n ['forward', '7'],\n ['down', '9'],\n ['up', '6'],\n ['down', '1'],\n ['down', '7'],\n ['down', '7'],\n ['up', '7'],\n ['forward', '8'],\n ['down', '1'],\n ['down', '7'],\n ['down', '8'],\n ['up', '4'],\n ['down', '6'],\n ['down', '7'],\n ['forward', '5'],\n ['down', '9'],\n ['forward', '2'],\n ['down', '6'],\n ['down', '8'],\n ['down', '5'],\n ['down', '4'],\n ['forward', '8'],\n ['down', '4'],\n ['forward', '8'],\n ['down', '3'],\n ['down', '6'],\n ['forward', '6'],\n ['forward', '1'],\n ['up', '5'],\n ['down', '2'],\n ['down', '2'],\n ['forward', '7'],\n ['forward', '1'],\n ['up', '3'],\n ['down', '6'],\n ['down', '3'],\n ['down', '9'],\n ['up', '6'],\n ['forward', '4'],\n ['down', '1'],\n ['forward', '4'],\n ['up', '3'],\n ['forward', '6'],\n ['down', '7'],\n ['down', '2'],\n ['up', '3'],\n ['down', '1'],\n ['up', '7'],\n ['down', '7'],\n ['forward', '5'],\n ['up', '9'],\n ['up', '1'],\n ['up', '2'],\n ['forward', '4'],\n ['forward', '9'],\n ['up', '3'],\n ['down', '8'],\n ['up', '2'],\n ['down', '9'],\n ['forward', '8'],\n ['up', '2'],\n ['down', '5'],\n ['up', '5'],\n ['down', '2'],\n ['up', '8'],\n ['down', '6'],\n ['down', '8'],\n ['up', '7'],\n ['forward', '9'],\n ['forward', '6'],\n ['forward', '5'],\n ['forward', '8'],\n ['forward', '7'],\n ['down', '2'],\n ['forward', '1'],\n ['forward', '6'],\n ['down', '3'],\n ['down', '7'],\n ['up', '1'],\n ['forward', '7'],\n ['up', '7'],\n ['down', '2'],\n ['down', '9'],\n ['up', '4'],\n ['forward', '2'],\n ['down', '3'],\n ['up', '8'],\n ['up', '3'],\n ['down', '9'],\n ['down', '2'],\n ['forward', '4'],\n ['forward', '9'],\n ['forward', '8'],\n ['forward', '2'],\n ['up', '2'],\n ['forward', '3'],\n ['forward', '8'],\n ['down', '2'],\n ['down', '4'],\n ['up', '8'],\n ['up', '2'],\n ['forward', '4'],\n ['forward', '7'],\n ['up', '8'],\n ['forward', '8'],\n ['forward', '1'],\n ['forward', '9'],\n ['down', '9'],\n ['up', '3'],\n ['forward', '9'],\n ['down', '5'],\n ['down', '9'],\n ['down', '2'],\n ['forward', '1'],\n ['forward', '6'],\n ['forward', '3'],\n ['up', '7'],\n ['down', '8'],\n ['down', '2'],\n ['up', '6'],\n ['down', '5'],\n ['forward', '4'],\n ['up', '7'],\n ['down', '5'],\n ['down', '3'],\n ['forward', '5'],\n ['forward', '5'],\n ['up', '4'],\n ['down', '7'],\n ['down', '5'],\n ['up', '1'],\n ['down', '4'],\n ['down', '6'],\n ['forward', '6'],\n ['forward', '3'],\n ['down', '9'],\n ['forward', '6'],\n ['forward', '4'],\n ['down', '8'],\n ['up', '5'],\n ['down', '7'],\n ['forward', '6'],\n ['forward', '7'],\n ['down', '9'],\n ['forward', '3'],\n ['forward', '3'],\n ['forward', '4'],\n ['down', '6'],\n ['forward', '2'],\n ['forward', '9'],\n ['up', '2'],\n ['forward', '7'],\n ['up', '5'],\n ['forward', '6'],\n ['down', '8'],\n ['down', '7'],\n ['forward', '1'],\n ['down', '6'],\n ['forward', '3'],\n ['down', '9'],\n ['forward', '7'],\n ['forward', '2'],\n ['forward', '1'],\n ['down', '9'],\n ['down', '2'],\n ['up', '8'],\n ['down', '1'],\n ['down', '3'],\n ['up', '6'],\n ['down', '5'],\n ['up', '2'],\n ['down', '2'],\n ['down', '8'],\n ['forward', '7'],\n ['down', '8'],\n ['forward', '6'],\n ['up', '5'],\n ['down', '8'],\n ['down', '4'],\n ['down', '1'],\n ['forward', '1'],\n ['forward', '9'],\n ['down', '3'],\n ['forward', '9'],\n ['up', '2'],\n ['down', '2'],\n ['forward', '9'],\n ['up', '2'],\n ['up', '2'],\n ['down', '8'],\n ['down', '1'],\n ['up', '4'],\n ['down', '9'],\n ['down', '6'],\n ['up', '7'],\n ['down', '6'],\n ['forward', '7'],\n ['forward', '3'],\n ['forward', '9'],\n ['forward', '2'],\n ['down', '9'],\n ['down', '8'],\n ['down', '5'],\n ['forward', '4'],\n ['forward', '1'],\n ['forward', '3'],\n ['forward', '3'],\n ['forward', '1'],\n ['forward', '6'],\n ['forward', '7'],\n ['down', '7'],\n ['down', '1'],\n ['up', '4'],\n ['up', '2'],\n ['forward', '9'],\n ['up', '7'],\n ['down', '1'],\n ['forward', '5'],\n ['down', '8'],\n ['forward', '3'],\n ['down', '9'],\n ['up', '4'],\n ['up', '1'],\n ['forward', '7'],\n ['down', '1'],\n ['forward', '4'],\n ['up', '6'],\n ['down', '9'],\n ['forward', '2'],\n ['forward', '7'],\n ['down', '1'],\n ['forward', '2'],\n ['forward', '1'],\n ['down', '2'],\n ['forward', '6'],\n ['down', '4'],\n ['up', '7'],\n ['down', '6'],\n ['forward', '1'],\n ['down', '9'],\n ['up', '8'],\n ['up', '6'],\n ['forward', '4'],\n ['down', '5'],\n ['up', '8'],\n ['down', '5'],\n ['up', '9'],\n ['forward', '1'],\n ['forward', '6'],\n ['down', '4'],\n ['up', '5'],\n ['forward', '4'],\n ['forward', '2'],\n ['down', '6'],\n ['forward', '9'],\n ['down', '7'],\n ['down', '2'],\n ['forward', '1'],\n ['up', '2'],\n ['forward', '4'],\n ['forward', '4'],\n ['forward', '7'],\n ['down', '5'],\n ['up', '1'],\n ['down', '7'],\n ['down', '1'],\n ['forward', '3'],\n ['forward', '6'],\n ['forward', '7'],\n ['down', '5'],\n ['down', '4'],\n ['down', '2'],\n ['down', '3'],\n ['up', '3'],\n ['forward', '7'],\n ['down', '3'],\n ['up', '2'],\n ['forward', '7'],\n ['down', '9'],\n ['up', '4'],\n ['forward', '9'],\n ['forward', '4'],\n ['forward', '2'],\n ['down', '9'],\n ['forward', '1'],\n ['down', '5'],\n ['forward', '3'],\n ['forward', '5'],\n ['up', '7'],\n ['down', '9'],\n ['up', '7'],\n ['down', '5'],\n ['down', '2'],\n ['up', '5'],\n ['up', '1'],\n ['forward', '8'],\n ['forward', '3'],\n ['up', '5'],\n ['forward', '2'],\n ['down', '2'],\n ['forward', '5'],\n ['forward', '3'],\n ['forward', '4'],\n ['up', '4'],\n ['forward', '3'],\n ['up', '4'],\n ['forward', '1'],\n ['down', '2'],\n ['forward', '5'],\n ['down', '9'],\n ['forward', '8'],\n ['forward', '2'],\n ['forward', '5'],\n ['forward', '1'],\n ['up', '3'],\n ['up', '8'],\n ['forward', '2'],\n ['forward', '9'],\n ['down', '7'],\n ['up', '5'],\n ['up', '2'],\n ['forward', '1'],\n ['forward', '4'],\n ['up', '4'],\n ['forward', '5'],\n ['down', '5'],\n ['forward', '5'],\n ['down', '2'],\n ['down', '8'],\n ['forward', '4'],\n ['down', '3'],\n ['forward', '7'],\n ['down', '7'],\n ['forward', '6'],\n ['down', '9'],\n ['down', '2'],\n ['up', '4'],\n ['up', '5'],\n ['down', '2'],\n ['down', '7'],\n ['forward', '3'],\n ['down', '1'],\n ['down', '5'],\n ['down', '6'],\n ['forward', '8'],\n ['forward', '7'],\n ['down', '3'],\n ['forward', '4'],\n ['forward', '8'],\n ['forward', '2'],\n ['down', '8'],\n ['down', '3'],\n ['forward', '8'],\n ['down', '2'],\n ['up', '2'],\n ['forward', '3'],\n ['up', '2'],\n ['down', '7'],\n ['down', '4'],\n ['forward', '8'],\n ['forward', '7'],\n ['down', '9'],\n ['forward', '7'],\n ['down', '8'],\n ['up', '3'],\n ['forward', '1'],\n ['up', '5'],\n ['forward', '6'],\n ['down', '7'],\n ['forward', '8'],\n ['forward', '3'],\n ['forward', '1'],\n ['forward', '5'],\n ['down', '8'],\n ['up', '8'],\n ['forward', '9'],\n ['down', '7'],\n ['up', '8'],\n ['up', '8'],\n ['forward', '9'],\n ['up', '6'],\n ['forward', '2'],\n ['down', '8'],\n ['forward', '6'],\n ['down', '6'],\n ['down', '6'],\n ['forward', '8'],\n ['up', '9'],\n ['forward', '9'],\n ['down', '8'],\n ['down', '8'],\n ['forward', '3'],\n ['forward', '3'],\n ['down', '8'],\n ['up', '7'],\n ['down', '1'],\n ['forward', '5'],\n ['up', '6'],\n ['forward', '6'],\n ['up', '8'],\n ['down', '7'],\n ['down', '3'],\n ['down', '4'],\n ['forward', '7'],\n ['down', '2'],\n ['forward', '4'],\n ['forward', '6'],\n ['down', '2'],\n ['down', '6'],\n ['up', '2'],\n ['down', '9'],\n ['down', '8'],\n ['forward', '6'],\n ['up', '8'],\n ['up', '4'],\n ['forward', '1'],\n ['forward', '2'],\n ['down', '8'],\n ['forward', '6'],\n ['down', '2'],\n ['down', '7'],\n ['down', '1'],\n ['down', '2'],\n ['forward', '9'],\n ['forward', '5'],\n ['down', '2'],\n ['down', '8'],\n ['down', '9'],\n ['up', '6'],\n ['forward', '6'],\n ['up', '2'],\n ['down', '9'],\n ['down', '4'],\n ['down', '9'],\n ['up', '7'],\n ['forward', '2'],\n ['up', '9'],\n ['down', '7'],\n ['forward', '2'],\n ['down', '7'],\n ['up', '6'],\n ['down', '3'],\n ['up', '1'],\n ['down', '8'],\n ['down', '4'],\n ['forward', '1'],\n ['up', '5'],\n ['up', '4'],\n ['down', '2'],\n ['down', '8'],\n ['forward', '8'],\n ['forward', '7'],\n ['up', '1'],\n ['down', '8'],\n ['forward', '2'],\n ['forward', '7'],\n ['down', '4'],\n ['forward', '4'],\n ['down', '3'],\n ['down', '7'],\n ['forward', '8'],\n ['down', '7'],\n ['down', '3'],\n ['down', '3'],\n ['forward', '8'],\n ['forward', '8'],\n ['up', '1'],\n ['forward', '8'],\n ['forward', '6'],\n ['down', '9'],\n ['up', '1'],\n ['down', '7'],\n ['down', '7'],\n ['forward', '7'],\n ['forward', '7'],\n ['up', '5'],\n ['down', '7'],\n ['down', '6'],\n ['down', '6'],\n ['forward', '8'],\n ['down', '3'],\n ['forward', '8'],\n ['down', '8'],\n ['forward', '7'],\n ['forward', '2'],\n ['up', '6'],\n ['down', '6'],\n ['down', '8'],\n ['forward', '1'],\n ['forward', '8'],\n ['down', '9'],\n ['down', '7'],\n ['up', '5'],\n ['down', '1'],\n ['forward', '6'],\n ['down', '9'],\n ['forward', '5'],\n ['up', '2'],\n ['up', '9'],\n ['down', '6'],\n ['down', '8'],\n ['down', '6'],\n ['up', '1'],\n ['forward', '7'],\n ['down', '9'],\n ['up', '2'],\n ['forward', '3'],\n ['down', '7'],\n ['up', '5'],\n ['forward', '3'],\n ['forward', '8'],\n ['up', '2'],\n ['forward', '1'],\n ['down', '6'],\n ['down', '7'],\n ['up', '4'],\n ['down', '5'],\n ['up', '8'],\n ['forward', '9'],\n ['forward', '5'],\n ['up', '7'],\n ['down', '3'],\n ['forward', '2'],\n ['up', '7'],\n ['up', '2'],\n ['down', '3'],\n ['up', '9'],\n ['down', '9'],\n ['down', '8'],\n ['up', '8'],\n ['down', '6'],\n ['forward', '9'],\n ['up', '7'],\n ['forward', '4'],\n ['forward', '7'],\n ['up', '7'],\n ['down', '6'],\n ['forward', '5'],\n ['up', '2'],\n ['up', '4'],\n ['down', '1'],\n ['down', '2'],\n ['down', '9'],\n ['forward', '5'],\n ['forward', '3'],\n ['forward', '9'],\n ['up', '7'],\n ['forward', '7'],\n ['down', '5'],\n ['down', '2'],\n ['up', '9'],\n ['forward', '4'],\n ['forward', '4'],\n ['up', '5'],\n ['up', '3'],\n ['forward', '5'],\n ['forward', '9'],\n ['forward', '4'],\n ['forward', '8'],\n ['down', '2'],\n ['up', '4'],\n ['down', '1'],\n ['forward', '9'],\n ['forward', '9'],\n ['up', '7'],\n ['down', '3'],\n ['forward', '2'],\n ['forward', '4'],\n ['down', '6'],\n ['up', '1'],\n ['forward', '6'],\n ['down', '4'],\n ['up', '9'],\n ['down', '4'],\n ['forward', '3'],\n ['down', '9'],\n ['up', '9'],\n ['down', '8'],\n ['up', '6'],\n ['forward', '9'],\n ['forward', '1'],\n ['forward', '2'],\n ['up', '2'],\n ['forward', '8'],\n ['forward', '9'],\n ['forward', '3'],\n ['forward', '5'],\n ['down', '5'],\n ['down', '7'],\n ['forward', '7'],\n ['forward', '5'],\n ['down', '3'],\n ['up', '2'],\n ['forward', '4'],\n ['down', '3'],\n ['up', '6'],\n ['down', '6'],\n ['up', '6'],\n ['forward', '1'],\n ['forward', '2'],\n ['down', '5'],\n ['down', '8'],\n ['down', '3'],\n ['forward', '5'],\n ['up', '4'],\n ['forward', '6'],\n ['forward', '9'],\n ['forward', '6'],\n ['forward', '1'],\n ['forward', '4'],\n ['up', '1'],\n ['forward', '3'],\n ['forward', '3'],\n ['up', '3'],\n ['forward', '9'],\n ['forward', '1'],\n ['forward', '7'],\n ['forward', '8'],\n ['forward', '1'],\n ['forward', '9'],\n ['forward', '7'],\n ['up', '9'],\n ['forward', '9'],\n ['up', '4'],\n ['down', '4'],\n ['up', '9'],\n ['down', '5'],\n ['down', '8'],\n ['down', '3'],\n ['forward', '6'],\n ['down', '7'],\n ['forward', '5'],\n ['forward', '6'],\n ['forward', '8'],\n ['forward', '7'],\n ['down', '7'],\n ['down', '5'],\n ['forward', '4'],\n ['down', '6'],\n ['down', '4'],\n ['down', '6'],\n ['down', '1'],\n ['forward', '3'],\n ['down', '3'],\n ['down', '7'],\n ['forward', '6'],\n ['forward', '3'],\n ['up', '2'],\n ['forward', '1'],\n ['forward', '8'],\n ['down', '9'],\n ['down', '3'],\n ['down', '3'],\n ['up', '6'],\n ['down', '7'],\n ['down', '3'],\n ['forward', '2'],\n ['down', '7'],\n ['down', '2'],\n ['forward', '1'],\n ['down', '7'],\n ['down', '3'],\n ['forward', '9'],\n ['down', '4'],\n ['down', '3'],\n ['forward', '9'],\n ['up', '2'],\n ['up', '4'],\n ['forward', '4'],\n ['down', '4'],\n ['up', '2'],\n ['down', '2'],\n ['forward', '8'],\n ['down', '1'],\n ['up', '9'],\n ['down', '5'],\n ['down', '7'],\n ['forward', '3'],\n ['forward', '9'],\n ['forward', '7'],\n ['forward', '1'],\n ['forward', '7'],\n ['forward', '1'],\n ['forward', '7'],\n ['up', '7'],\n ['down', '6'],\n ['forward', '6'],\n ['forward', '4'],\n ['forward', '6'],\n ['up', '3'],\n ['down', '5'],\n ['down', '5'],\n ['down', '3'],\n ['down', '6'],\n ['down', '3'],\n ['down', '3'],\n ['up', '2'],\n ['down', '4'],\n ['up', '8'],\n ['down', '4'],\n ['up', '2'],\n ['down', '7'],\n ['forward', '9'],\n ['up', '9'],\n ['down', '1'],\n ['forward', '8'],\n ['forward', '7'],\n ['forward', '6'],\n ['forward', '8'],\n ['up', '6'],\n ['up', '6'],\n ['down', '5'],\n ['forward', '6'],\n ['down', '3'],\n ['forward', '6'],\n ['forward', '9'],\n ['down', '2'],\n ['down', '6'],\n ['down', '4'],\n ['down', '5'],\n ['forward', '7'],\n ['forward', '4'],\n ['up', '3'],\n ['down', '6'],\n ['down', '6'],\n ['forward', '1'],\n ['forward', '4'],\n ['down', '6'],\n ['up', '3'],\n ['forward', '1'],\n ['down', '3'],\n ['down', '7'],\n ['down', '4'],\n ['down', '8'],\n ['down', '8'],\n ['up', '8'],\n ['down', '2'],\n ['up', '8'],\n ['down', '3'],\n ['down', '3'],\n ['forward', '3'],\n ['down', '3'],\n ['down', '7'],\n ['up', '6'],\n ['forward', '8'],\n ['down', '4'],\n ['forward', '1'],\n ['down', '7'],\n ['down', '3'],\n ['forward', '5'],\n ['forward', '8'],\n ['up', '1'],\n ['forward', '2'],\n ['down', '7'],\n ['down', '7'],\n ['forward', '1'],\n ['up', '7'],\n ['down', '3'],\n ['up', '3'],\n ['forward', '5'],\n ['forward', '9'],\n ['down', '3'],\n ['down', '7'],\n ['down', '5'],\n ['forward', '7']]"
     },
     "execution_count": 57,
     "metadata": {},
     "output_type": "execute_result"
    }
   ],
   "source": [
    "# data = \"\"\"forward 5\n",
    "# down 5\n",
    "# forward 8\n",
    "# up 3\n",
    "# down 8\n",
    "# forward 2\"\"\"\n",
    "#\n",
    "# data = data.splitlines()\n",
    "\n",
    "\n",
    "with open('./files/day2') as f:\n",
    "    data = list(f.read().splitlines())\n",
    "\n",
    "data = list(map(lambda row: row.split(\" \"), data))\n",
    "\n",
    "data"
   ]
  },
  {
   "cell_type": "code",
   "execution_count": 58,
   "outputs": [
    {
     "name": "stdout",
     "output_type": "stream",
     "text": [
      "result part 1:  1990000\n"
     ]
    }
   ],
   "source": [
    "x = 0\n",
    "y = 0\n",
    "\n",
    "def forward(count):\n",
    "    global x\n",
    "    x += count\n",
    "\n",
    "def down(count):\n",
    "    global y\n",
    "    y += count\n",
    "\n",
    "def up(count):\n",
    "    global y\n",
    "    y -= count\n",
    "\n",
    "moveMap = {\n",
    "    'forward': forward,\n",
    "    'down': down,\n",
    "    'up': up\n",
    "}\n",
    "\n",
    "for current in list(data):\n",
    "    parsedCount = int(current[1])\n",
    "    moveMap[current[0]](parsedCount)\n",
    "\n",
    "\n",
    "print('result part 1: ', x * y)"
   ],
   "metadata": {
    "collapsed": false,
    "pycharm": {
     "name": "#%%\n"
    }
   }
  },
  {
   "cell_type": "code",
   "execution_count": 59,
   "outputs": [
    {
     "name": "stdout",
     "output_type": "stream",
     "text": [
      "result part 2:  1975421260\n"
     ]
    }
   ],
   "source": [
    "x = 0\n",
    "y = 0\n",
    "aim = 0\n",
    "\n",
    "def forward(count):\n",
    "    global x\n",
    "    global y\n",
    "    global aim\n",
    "    x += count\n",
    "    y += aim * count\n",
    "\n",
    "def down(count):\n",
    "    global aim\n",
    "    aim += count\n",
    "\n",
    "def up(count):\n",
    "    global aim\n",
    "    aim -= count\n",
    "\n",
    "moveMap = {\n",
    "    'forward': forward,\n",
    "    'down': down,\n",
    "    'up': up\n",
    "}\n",
    "\n",
    "for current in list(data):\n",
    "    parsedCount = int(current[1])\n",
    "    moveMap[current[0]](parsedCount)\n",
    "\n",
    "print('result part 2: ', x * y)\n"
   ],
   "metadata": {
    "collapsed": false,
    "pycharm": {
     "name": "#%%\n"
    }
   }
  }
 ],
 "metadata": {
  "kernelspec": {
   "display_name": "Python 3",
   "language": "python",
   "name": "python3"
  },
  "language_info": {
   "codemirror_mode": {
    "name": "ipython",
    "version": 2
   },
   "file_extension": ".py",
   "mimetype": "text/x-python",
   "name": "python",
   "nbconvert_exporter": "python",
   "pygments_lexer": "ipython2",
   "version": "2.7.6"
  }
 },
 "nbformat": 4,
 "nbformat_minor": 0
}