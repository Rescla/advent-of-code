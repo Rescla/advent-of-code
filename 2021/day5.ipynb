{
 "cells": [
  {
   "cell_type": "code",
   "execution_count": 65,
   "metadata": {
    "collapsed": true
   },
   "outputs": [],
   "source": [
    "import math\n",
    "\n",
    "# data = \"\"\"0,9 -> 5,9\n",
    "# 8,0 -> 0,8\n",
    "# 9,4 -> 3,4\n",
    "# 2,2 -> 2,1\n",
    "# 7,0 -> 7,4\n",
    "# 6,4 -> 2,0\n",
    "# 0,9 -> 2,9\n",
    "# 3,4 -> 1,4\n",
    "# 0,0 -> 8,8\n",
    "# 5,5 -> 8,2\n",
    "# \"\"\"\n",
    "\n",
    "with open('./files/day5') as f:\n",
    "    data = f.read()\n",
    "\n",
    "from shapely.geometry import LineString, Point\n",
    "\n",
    "def parse_line(line):\n",
    "    split_line = line.split(' -> ')\n",
    "    [a, b] = map(int, split_line[0].split(','))\n",
    "    [c, d] = map(int, split_line[1].split(','))\n",
    "\n",
    "    # Code for part 1\n",
    "    # if a == c or b == d:\n",
    "    #     # horizontal or vertical\n",
    "    #     return LineString([(a, b), (c, d)])\n",
    "    # return None\n",
    "\n",
    "    # Code for part 2\n",
    "    return LineString([(a, b), (c, d)])\n",
    "\n",
    "\n",
    "lines = list(filter(lambda a: a, map(parse_line, data.splitlines())))\n",
    "\n"
   ]
  },
  {
   "cell_type": "code",
   "execution_count": 66,
   "outputs": [
    {
     "name": "stdout",
     "output_type": "stream",
     "text": [
      "6113\n"
     ]
    }
   ],
   "source": [
    "# Call fn with all possible combinations of data\n",
    "def compare_pairs(data, fn):\n",
    "    outputData = []\n",
    "    for i in range(0, len(data)):\n",
    "        for j in range(i + 1, len(data)):\n",
    "            output = fn(data[i], data[j])\n",
    "            outputData.append(output)\n",
    "    return outputData\n",
    "\n",
    "horizontal_and_vertical_lines = [elem for elem in lines if elem]\n",
    "\n",
    "# intersections = compare_pairs(lines, lambda a, b: a.intersection(b))\n",
    "\n",
    "intersections = [elem for elem in horizontal_and_vertical_lines if not elem.is_empty or isinstance(elem, Point)]\n",
    "\n",
    "def convert_line_to_points(line):\n",
    "    start_and_end = list(line.coords)\n",
    "    [a, b] = start_and_end[0]\n",
    "    [c, d] = start_and_end[1]\n",
    "\n",
    "    current = [a, b]\n",
    "\n",
    "    points = [Point(current)]\n",
    "\n",
    "\n",
    "    while current[0] != start_and_end[1][0] or current[1] != start_and_end[1][1]:\n",
    "        if a > c:\n",
    "            current[0] -= 1\n",
    "        if a < c:\n",
    "            current[0] += 1\n",
    "\n",
    "        if b > d:\n",
    "            current[1] -= 1\n",
    "        if b < d:\n",
    "            current[1] += 1\n",
    "\n",
    "        points.append(Point(current))\n",
    "        [a, b] = current\n",
    "\n",
    "    return points\n",
    "\n",
    "\n",
    "\n",
    "overlap_at_point = list(map(lambda x: [x] if isinstance(x, Point) else convert_line_to_points(x), intersections))\n",
    "\n",
    "\n",
    "\n",
    "\n",
    "point_dict = dict()\n",
    "for intersection in overlap_at_point:\n",
    "    for coord in intersection:\n",
    "        key = ','.join([str(coord.x), str(coord.y)])\n",
    "        new_value = point_dict.get(key, 0) + 1\n",
    "        point_dict[key] = new_value\n",
    "        # print(key, new_value)\n",
    "\n",
    "\n",
    "filtered_dict = {k: v for k, v in point_dict.items() if v > 1}\n",
    "print(len(filtered_dict))"
   ],
   "metadata": {
    "collapsed": false,
    "pycharm": {
     "name": "#%%\n"
    }
   }
  },
  {
   "cell_type": "code",
   "execution_count": 66,
   "outputs": [],
   "source": [],
   "metadata": {
    "collapsed": false,
    "pycharm": {
     "name": "#%%\n"
    }
   }
  }
 ],
 "metadata": {
  "kernelspec": {
   "display_name": "Python 3",
   "language": "python",
   "name": "python3"
  },
  "language_info": {
   "codemirror_mode": {
    "name": "ipython",
    "version": 2
   },
   "file_extension": ".py",
   "mimetype": "text/x-python",
   "name": "python",
   "nbconvert_exporter": "python",
   "pygments_lexer": "ipython2",
   "version": "2.7.6"
  }
 },
 "nbformat": 4,
 "nbformat_minor": 0
}