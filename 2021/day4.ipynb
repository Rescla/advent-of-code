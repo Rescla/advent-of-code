{
 "cells": [
  {
   "cell_type": "code",
   "execution_count": 130,
   "metadata": {
    "collapsed": true
   },
   "outputs": [],
   "source": [
    "import numpy as np\n",
    "import re as re\n",
    "\n",
    "# data = \"\"\"14 21 17 24  4\n",
    "# 10 16 15  9 19\n",
    "# 18  8 23 26 20\n",
    "# 22 11 13  6  5\n",
    "#  2  0 12  3  7\"\"\"\n",
    "\n",
    "with open('./files/day4') as f:\n",
    "    lines = list(f.read().splitlines())\n",
    "#\n",
    "# lines = \"\"\"7,4,9,5,11,17,23,2,0,14,21,24,10,16,13,6,15,25,12,22,18,20,8,19,3,26,1\n",
    "#\n",
    "# 22 13 17 11  0\n",
    "#  8  2 23  4 24\n",
    "# 21  9 14 16  7\n",
    "#  6 10  3 18  5\n",
    "#  1 12 20 15 19\n",
    "#\n",
    "#  3 15  0  2 22\n",
    "#  9 18 13 17  5\n",
    "# 19  8  7 25 23\n",
    "# 20 11 10 24  4\n",
    "# 14 21 16 12  6\n",
    "#\n",
    "# 14 21 17 24  4\n",
    "# 10 16 15  9 19\n",
    "# 18  8 23 26 20\n",
    "# 22 11 13  6  5\n",
    "#  2  0 12  3  7\"\"\".splitlines()\n",
    "\n",
    "\n",
    "raw_to_draw = list(map(int, lines[0].split(',')))\n",
    "\n",
    "board_size = 5\n",
    "\n",
    "raw_boards = list(filter(lambda x: x != '', lines[2:]))\n",
    "raw_boards = list(map(lambda x: '\\n'.join(x), [raw_boards[i: i + board_size] for i in range(0, len(raw_boards), board_size)]))\n"
   ]
  },
  {
   "cell_type": "code",
   "execution_count": 131,
   "outputs": [
    {
     "name": "stdout",
     "output_type": "stream",
     "text": [
      "Part 1:  64084\n"
     ]
    }
   ],
   "source": [
    "from functools import reduce\n",
    "\n",
    "\n",
    "# Create a 2d array from the input string for a single board\n",
    "def parse_board(board_str: str):\n",
    "    return np.array(list(map(lambda x: list(map(int, re.split('\\s+', x.strip()))), board_str.splitlines())))\n",
    "\n",
    "def test_board(board, numbers_drawn):\n",
    "    def add(a, b):\n",
    "        return a + b\n",
    "\n",
    "    # Get a 2d array with True/False depending on if a number is in drawn\n",
    "    result = reduce(add, map(lambda x: board == x, numbers_drawn))\n",
    "\n",
    "    # determine if all values in a row or column are true\n",
    "    horizontal_match = np.all(result, 1)\n",
    "    vertical_match = np.all(result, 0)\n",
    "\n",
    "    # If no columns or row are true, return None\n",
    "    if not True in horizontal_match + vertical_match:\n",
    "        return None\n",
    "\n",
    "    not_drawn = board[np.invert(result)]\n",
    "    sum_not_drawn = reduce(add, not_drawn)\n",
    "\n",
    "    # calculate question result\n",
    "    return sum_not_drawn * numbers_drawn[-1]\n",
    "\n",
    "def test_boards_win_first(boards, numbers_to_draw):\n",
    "    numbers_drawn = []\n",
    "\n",
    "    for number_to_draw in numbers_to_draw:\n",
    "        numbers_drawn.append(number_to_draw)\n",
    "\n",
    "        for board in boards:\n",
    "            test_result = test_board(board, numbers_drawn)\n",
    "\n",
    "            if test_result:\n",
    "                return test_result\n",
    "\n",
    "\n",
    "parsed_boards = list(map(parse_board, raw_boards))\n",
    "print(\"Part 1: \", test_boards_win_first(parsed_boards, raw_to_draw))"
   ],
   "metadata": {
    "collapsed": false,
    "pycharm": {
     "name": "#%%\n"
    }
   }
  },
  {
   "cell_type": "code",
   "execution_count": 132,
   "outputs": [
    {
     "name": "stdout",
     "output_type": "stream",
     "text": [
      "Part 2:  12833\n"
     ]
    }
   ],
   "source": [
    "def test_boards_win_last(boards, numbers_to_draw):\n",
    "    numbers_drawn = []\n",
    "\n",
    "    for number_to_draw in numbers_to_draw:\n",
    "        numbers_drawn.append(number_to_draw)\n",
    "\n",
    "        for board_i in reversed(range(0, len(boards))):\n",
    "            board = boards[board_i]\n",
    "            test_result = test_board(board, numbers_drawn)\n",
    "\n",
    "            if test_result:\n",
    "                del boards[board_i]\n",
    "\n",
    "                if len(boards) == 0:\n",
    "                    return test_result\n",
    "\n",
    "print(\"Part 2: \", test_boards_win_last(parsed_boards, raw_to_draw))\n"
   ],
   "metadata": {
    "collapsed": false,
    "pycharm": {
     "name": "#%%\n"
    }
   }
  }
 ],
 "metadata": {
  "kernelspec": {
   "display_name": "Python 3",
   "language": "python",
   "name": "python3"
  },
  "language_info": {
   "codemirror_mode": {
    "name": "ipython",
    "version": 2
   },
   "file_extension": ".py",
   "mimetype": "text/x-python",
   "name": "python",
   "nbconvert_exporter": "python",
   "pygments_lexer": "ipython2",
   "version": "2.7.6"
  }
 },
 "nbformat": 4,
 "nbformat_minor": 0
}