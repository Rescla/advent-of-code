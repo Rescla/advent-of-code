{
 "cells": [
  {
   "cell_type": "code",
   "execution_count": 41,
   "metadata": {
    "collapsed": true,
    "pycharm": {
     "name": "#%%\n"
    }
   },
   "outputs": [
    {
     "name": "stdout",
     "output_type": "stream",
     "text": [
      "target:  471\n",
      "fuel:  95476244\n"
     ]
    }
   ],
   "source": [
    "# data = '16,1,2,0,4,2,7,1,2,14'\n",
    "with open('./files/day7') as f:\n",
    "    data = f.read()\n",
    "\n",
    "\n",
    "data = list(map(int, data.split(',')))\n",
    "\n",
    "positions = dict()\n",
    "\n",
    "for crab in data:\n",
    "    positions[crab] = positions.setdefault(crab, 0) + 1\n",
    "\n",
    "\n",
    "sorted_items = sorted(positions.items())\n",
    "\n",
    "\n",
    "target = 0\n",
    "\n",
    "def map_fuel(item, current_target):\n",
    "    # cost = abs(item[0] - current_target) # Day 1\n",
    "    cost = sum(range(0, abs(item[0] - current_target) + 1))\n",
    "\n",
    "    return cost * item[1]\n",
    "\n",
    "def fuel_below_target(current_target):\n",
    "    below = filter(lambda x: x[0] < current_target, sorted_items)\n",
    "    return sum(map(lambda x: map_fuel(x, current_target), below))\n",
    "\n",
    "def fuel_above_target(current_target):\n",
    "    above = filter(lambda x: x[0] > current_target, sorted_items)\n",
    "    return sum(map(lambda x: map_fuel(x, current_target), above))\n",
    "\n",
    "def fuel_at_target(current_target):\n",
    "    return sum(map(lambda x: map_fuel(x, current_target), sorted_items))\n",
    "\n",
    "last_sum = fuel_at_target(target)\n",
    "next_sum = fuel_at_target(target + 1)\n",
    "\n",
    "while next_sum < last_sum:\n",
    "    last_sum = next_sum\n",
    "    target += 1\n",
    "    next_sum = fuel_at_target(target + 1)\n",
    "\n",
    "print('target: ', target)\n",
    "print('fuel: ', last_sum)\n",
    "\n"
   ]
  }
 ],
 "metadata": {
  "kernelspec": {
   "display_name": "Python 3",
   "language": "python",
   "name": "python3"
  },
  "language_info": {
   "codemirror_mode": {
    "name": "ipython",
    "version": 2
   },
   "file_extension": ".py",
   "mimetype": "text/x-python",
   "name": "python",
   "nbconvert_exporter": "python",
   "pygments_lexer": "ipython2",
   "version": "2.7.6"
  }
 },
 "nbformat": 4,
 "nbformat_minor": 0
}