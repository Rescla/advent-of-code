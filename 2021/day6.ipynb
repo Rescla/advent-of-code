{
 "cells": [
  {
   "cell_type": "code",
   "execution_count": 37,
   "metadata": {
    "collapsed": true
   },
   "outputs": [
    {
     "name": "stdout",
     "output_type": "stream",
     "text": [
      "day:  1\n",
      "day:  2\n",
      "day:  3\n",
      "day:  4\n",
      "day:  5\n",
      "day:  6\n",
      "day:  7\n",
      "day:  8\n",
      "day:  9\n",
      "day:  10\n",
      "day:  11\n",
      "day:  12\n",
      "day:  13\n",
      "day:  14\n",
      "day:  15\n",
      "day:  16\n",
      "day:  17\n",
      "day:  18\n",
      "total: 1597\n"
     ]
    }
   ],
   "source": [
    "# data = \"3,4,3,1,2\"\n",
    "with open('./files/day6') as f:\n",
    "    data = f.read()\n",
    "\n",
    "data = data.split(',')\n",
    "\n",
    "data = list(map(int, data))\n",
    "\n",
    "original_data = data.copy()\n",
    "\n",
    "for day in range(1, 18+1):\n",
    "    to_add = 0\n",
    "\n",
    "    def map_fish(fish):\n",
    "        global to_add\n",
    "        if fish == 0:\n",
    "            to_add += 1\n",
    "            return 6\n",
    "\n",
    "        return fish - 1\n",
    "\n",
    "    data = list(map(map_fish, data))\n",
    "    data += [8] * to_add\n",
    "\n",
    "# part 1, the brute force way\n",
    "print('total:', len(data))"
   ]
  },
  {
   "cell_type": "code",
   "execution_count": 38,
   "outputs": [
    {
     "name": "stdout",
     "output_type": "stream",
     "text": [
      "total count:  1617359101538\n"
     ]
    }
   ],
   "source": [
    "# Create a list with the count of each fish\n",
    "fishes = [0] * 9\n",
    "\n",
    "# Init list\n",
    "for row in original_data:\n",
    "    fishes[row] += 1\n",
    "\n",
    "for day in range(1, 256+1):\n",
    "    new_fishes = fishes.pop(0)\n",
    "    fishes.append(new_fishes)\n",
    "    fishes[6] += new_fishes\n",
    "\n",
    "print('total count: ', sum(fishes))"
   ],
   "metadata": {
    "collapsed": false,
    "pycharm": {
     "name": "#%%\n"
    }
   }
  },
  {
   "cell_type": "code",
   "execution_count": 33,
   "outputs": [],
   "source": [],
   "metadata": {
    "collapsed": false,
    "pycharm": {
     "name": "#%%\n"
    }
   }
  }
 ],
 "metadata": {
  "kernelspec": {
   "display_name": "Python 3",
   "language": "python",
   "name": "python3"
  },
  "language_info": {
   "codemirror_mode": {
    "name": "ipython",
    "version": 2
   },
   "file_extension": ".py",
   "mimetype": "text/x-python",
   "name": "python",
   "nbconvert_exporter": "python",
   "pygments_lexer": "ipython2",
   "version": "2.7.6"
  }
 },
 "nbformat": 4,
 "nbformat_minor": 0
}