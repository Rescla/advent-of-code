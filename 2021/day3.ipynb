{
 "cells": [
  {
   "cell_type": "code",
   "execution_count": 130,
   "metadata": {
    "collapsed": true
   },
   "outputs": [],
   "source": [
    "from typing import List\n",
    "\n",
    "data = \"\"\"00100\n",
    "11110\n",
    "10110\n",
    "10111\n",
    "10101\n",
    "01111\n",
    "00111\n",
    "11100\n",
    "10000\n",
    "11001\n",
    "00010\n",
    "01010\"\"\".splitlines()\n",
    "# #\n",
    "# with open('./files/day3') as f:\n",
    "#     data = list(f.read().splitlines())"
   ]
  },
  {
   "cell_type": "code",
   "execution_count": 131,
   "outputs": [
    {
     "name": "stdout",
     "output_type": "stream",
     "text": [
      "Epsilon:  9\n",
      "Gamma:  22\n",
      "part 1:  198\n"
     ]
    }
   ],
   "source": [
    "def map_most_common(pair):\n",
    "    (n0, n1) = pair\n",
    "    return '1' if n1 >= n0 else '0'\n",
    "\n",
    "def map_least_common(pair):\n",
    "    (n0, n1) = pair\n",
    "    return '1' if n1 < n0 else '0'\n",
    "\n",
    "def get_most_least_common(input_data):\n",
    "    count0 = [0] * len(input_data[0])\n",
    "    count1 = [0] * len(input_data[0])\n",
    "\n",
    "    for line in input_data:\n",
    "        for i in range(0, len(line)):\n",
    "            character = line[i]\n",
    "            if character == '1':\n",
    "                count1[i] += 1\n",
    "            else:\n",
    "                count0[i] += 1\n",
    "\n",
    "    most_common = list(map(map_most_common, zip(count0, count1)))\n",
    "    least_common = list(map(map_least_common, zip(count0, count1)))\n",
    "\n",
    "    return most_common, least_common\n",
    "\n",
    "def part1():\n",
    "    (most_common, least_common) = get_most_least_common(data)\n",
    "\n",
    "    gamma = int(''.join(most_common), 2)\n",
    "    epsilon = int(''.join(least_common), 2)\n",
    "\n",
    "    print('Epsilon: ', epsilon)\n",
    "    print('Gamma: ', gamma)\n",
    "\n",
    "    print('part 1: ', epsilon * gamma)\n",
    "\n",
    "part1()"
   ],
   "metadata": {
    "collapsed": false,
    "pycharm": {
     "name": "#%%\n"
    }
   }
  },
  {
   "cell_type": "code",
   "execution_count": 142,
   "outputs": [
    {
     "name": "stdout",
     "output_type": "stream",
     "text": [
      "Oxygen:  23\n",
      "CO2:  10\n",
      "Life support:  230\n"
     ]
    }
   ],
   "source": [
    "\n",
    "\n",
    "def get_life_support_ratings(mask_fn):\n",
    "    working_list = data.copy()\n",
    "    current_mask_index = 0\n",
    "\n",
    "    while len(working_list) > 1:\n",
    "        mask = mask_fn(working_list)\n",
    "\n",
    "        for listI in reversed(range(len(working_list))):\n",
    "            target = str(mask[current_mask_index])\n",
    "\n",
    "            if working_list[listI][current_mask_index] != target:\n",
    "                del working_list[listI]\n",
    "\n",
    "        current_mask_index += 1\n",
    "\n",
    "    return int(''.join(working_list), 2)\n",
    "\n",
    "def oxygen():\n",
    "    return get_life_support_ratings(lambda x: get_most_least_common(x)[0])\n",
    "\n",
    "def co2():\n",
    "    return get_life_support_ratings(lambda x: get_most_least_common(x)[1])\n",
    "\n",
    "\n",
    "print('Oxygen: ', oxygen())\n",
    "print('CO2: ', co2())\n",
    "print('Life support: ', oxygen() * co2())"
   ],
   "metadata": {
    "collapsed": false,
    "pycharm": {
     "name": "#%%\n"
    }
   }
  }
 ],
 "metadata": {
  "kernelspec": {
   "display_name": "Python 3",
   "language": "python",
   "name": "python3"
  },
  "language_info": {
   "codemirror_mode": {
    "name": "ipython",
    "version": 2
   },
   "file_extension": ".py",
   "mimetype": "text/x-python",
   "name": "python",
   "nbconvert_exporter": "python",
   "pygments_lexer": "ipython2",
   "version": "2.7.6"
  }
 },
 "nbformat": 4,
 "nbformat_minor": 0
}